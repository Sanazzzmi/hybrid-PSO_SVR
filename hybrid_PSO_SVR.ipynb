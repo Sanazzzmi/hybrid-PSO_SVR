{
  "nbformat": 4,
  "nbformat_minor": 0,
  "metadata": {
    "colab": {
      "name": "hybrid PSO_SVR.ipynb",
      "provenance": [],
      "authorship_tag": "ABX9TyMptRoqkcJg9X6uxxwQAQJ6",
      "include_colab_link": true
    },
    "kernelspec": {
      "name": "python3",
      "display_name": "Python 3"
    },
    "language_info": {
      "name": "python"
    }
  },
  "cells": [
    {
      "cell_type": "markdown",
      "metadata": {
        "id": "view-in-github",
        "colab_type": "text"
      },
      "source": [
        "<a href=\"https://colab.research.google.com/github/Sanazzzmi/hybrid-PSO_SVR/blob/main/hybrid_PSO_SVR.ipynb\" target=\"_parent\"><img src=\"https://colab.research.google.com/assets/colab-badge.svg\" alt=\"Open In Colab\"/></a>"
      ]
    },
    {
      "cell_type": "markdown",
      "source": [
        "[Article idea](https://link.springer.com/content/pdf/10.1007/s11356-020-08792-3.pdf)"
      ],
      "metadata": {
        "id": "ktV1LLMi-K6E"
      }
    },
    {
      "cell_type": "markdown",
      "source": [
        "[Data](https://www.longpaddock.qld.gov.au/silo/point-data/)"
      ],
      "metadata": {
        "id": "ljW80OxiDtEE"
      }
    },
    {
      "cell_type": "markdown",
      "source": [
        "### PSO_SVR"
      ],
      "metadata": {
        "id": "j6lniBsED_6p"
      }
    },
    {
      "cell_type": "code",
      "source": [
        "from google.colab import drive\n",
        "drive.mount('/content/drive')"
      ],
      "metadata": {
        "id": "PrsuwiUZ-Hrl"
      },
      "execution_count": null,
      "outputs": []
    },
    {
      "cell_type": "code",
      "source": [
        "#--- IMPORT DEPENDENCIES ------------------------------------------------------+\n",
        "\n",
        "from __future__ import division\n",
        "import random\n",
        "import math\n",
        "import copy    # array-copying convenience\n",
        "import sys     # max float\n",
        "import pandas as pd\n",
        "from sklearn.model_selection import train_test_split\n",
        "from sklearn import svm\n",
        "from sklearn.svm import SVR\n",
        "import sklearn.model_selection\n",
        "import numpy.random as rd\n",
        "from sklearn.model_selection import KFold\n",
        "from sklearn.metrics import mean_squared_error, r2_score\n",
        "from sklearn.model_selection import cross_val_score\n",
        "import numpy.random as rd"
      ],
      "metadata": {
        "id": "1iFOljGewD9U"
      },
      "execution_count": null,
      "outputs": []
    },
    {
      "cell_type": "code",
      "source": [
        "#--- COST FUNCTION ------------------------------------------------------------+\n",
        "\n",
        "# function we are attempting to optimize (minimize)\n",
        "\n",
        "\n",
        "def func1(x):\n",
        "    file_name='/content/drive/MyDrive/file_name2.csv'\n",
        "    df=pd.read_csv(file_name)\n",
        "    df = df.sort_index()\n",
        "    y=df['et_short_crop']\n",
        "    dff = df.drop('et_short_crop', 1)\n",
        "    X=dff\n",
        "    X_train,X_test,y_train,y_test= train_test_split(X, y, test_size = 0.2, random_state = 0)\n",
        "    p0 = x[0]\n",
        "    p1 = x[1]\n",
        "    p2 = x[2]\n",
        "    \n",
        "    rbf_regressor = svm.SVR(kernel = 'rbf', C = p0 , epsilon =p1, gamma = p2 ).fit(X_train, y_train)  #svm        \n",
        "    cv_accuracies = cross_val_score(rbf_regressor,X_test,y_test,cv =3,scoring = 'neg_mean_squared_error') # Taking negated value of MSE\n",
        "    #To minimize the error rate\n",
        "    accuracies = cv_accuracies.mean()            \n",
        "    fitness_value = (1 - accuracies)*100\n",
        "    \n",
        "    return fitness_value\n"
      ],
      "metadata": {
        "id": "VRFPgMtawFxd"
      },
      "execution_count": null,
      "outputs": []
    },
    {
      "cell_type": "code",
      "source": [
        "#--- MAIN ---------------------------------------------------------------------+\n",
        "\n",
        "\n",
        "class Particle:\n",
        "    def __init__(self,x0):\n",
        "        self.position_i=[]          # particle position\n",
        "        self.velocity_i=[]          # particle velocity\n",
        "        self.pos_best_i=[]          # best position individual\n",
        "        self.err_best_i=-1          # best error individual\n",
        "        self.err_i=-1               # error individual\n",
        "\n",
        "        for i in range(0,num_dimensions):\n",
        "            self.velocity_i.append(random.uniform(-1,1))\n",
        "            self.position_i.append(x0[i])\n",
        "\n",
        "    # evaluate current fitness\n",
        "    def evaluate(self,costFunc):\n",
        "        self.err_i=costFunc(self.position_i)\n",
        "\n",
        "        # check to see if the current position is an individual best\n",
        "        if self.err_i < self.err_best_i or self.err_best_i==-1:\n",
        "            self.pos_best_i=self.position_i\n",
        "            self.err_best_i=self.err_i\n",
        "\n",
        "    # update new particle velocity\n",
        "    def update_velocity(self,pos_best_g):\n",
        "        w=0.7       # constant inertia weight (how much to weigh the previous velocity)\n",
        "        c1=2.1        # cognative constant\n",
        "        c2=2.1        # social constant\n",
        "\n",
        "        for i in range(0,num_dimensions):\n",
        "            r1=random.random()\n",
        "            r2=random.random()\n",
        "\n",
        "            vel_cognitive=c1*r1*(self.pos_best_i[i]-self.position_i[i])\n",
        "            vel_social=c2*r2*(pos_best_g[i]-self.position_i[i])\n",
        "            self.velocity_i[i]=w*self.velocity_i[i]+vel_cognitive+vel_social\n",
        "\n",
        "    # update the particle position based off new velocity updates\n",
        "    def update_position(self,bounds):\n",
        "        for i in range(0,num_dimensions):\n",
        "            self.position_i[i]=self.position_i[i]+self.velocity_i[i]\n",
        "\n",
        "            # adjust maximum position if necessary\n",
        "            if self.position_i[i]>bounds[i][1]:\n",
        "                self.position_i[i]=bounds[i][1]\n",
        "\n",
        "            # adjust minimum position if neseccary\n",
        "            if self.position_i[i] < bounds[i][0]:\n",
        "                self.position_i[i]=bounds[i][0]\n",
        "                \n",
        "class PSO():\n",
        "    def __init__(self,costFunc,x0,bounds,num_particles,maxiter):\n",
        "        global num_dimensions\n",
        "\n",
        "        num_dimensions=len(x0)\n",
        "        err_best_g=-1                   # best error for group\n",
        "        pos_best_g=[]                   # best position for group\n",
        "\n",
        "        # establish the swarm\n",
        "        swarm=[]\n",
        "        for i in range(0,num_particles):\n",
        "            swarm.append(Particle(x0))\n",
        "\n",
        "        # begin optimization loop\n",
        "        i=0\n",
        "        while i < maxiter:\n",
        "            #print i,err_best_g\n",
        "            # cycle through particles in swarm and evaluate fitness\n",
        "            for j in range(0,num_particles):\n",
        "                swarm[j].evaluate(costFunc)\n",
        "\n",
        "                # determine if current particle is the best (globally)\n",
        "                if swarm[j].err_i < err_best_g or err_best_g == -1:\n",
        "                    pos_best_g=list(swarm[j].position_i)\n",
        "                    err_best_g=float(swarm[j].err_i)\n",
        "\n",
        "            # cycle through swarm and update velocities and position\n",
        "            for j in range(0,num_particles):\n",
        "                swarm[j].update_velocity(pos_best_g)\n",
        "                swarm[j].update_position(bounds)\n",
        "            i+=1\n",
        "\n",
        "        # print final results\n",
        "        print ('FINAL:')\n",
        "        print ('position',pos_best_g)\n",
        "        print ('error',err_best_g)\n",
        "\n",
        "if __name__ == \"__PSO__\":\n",
        "    main()"
      ],
      "metadata": {
        "id": "yiX5S8E1wFzb"
      },
      "execution_count": null,
      "outputs": []
    },
    {
      "cell_type": "code",
      "source": [
        "#--- RUN ----------------------------------------------------------------------+\n",
        "\n",
        "initial=[1,1,1]               # initial starting location [x1,x2...]\n",
        "bounds=[(0.01,10),(0.01,10),(0.01,10)]  # input bounds [(x1_min,x1_max),(x2_min,x2_max)...]\n",
        "PSO(func1,initial,bounds,num_particles=100,maxiter=50)"
      ],
      "metadata": {
        "colab": {
          "base_uri": "https://localhost:8080/"
        },
        "id": "upffGTdawF1k",
        "outputId": "4a73c454-8433-4ba8-a3df-73845135b525"
      },
      "execution_count": null,
      "outputs": [
        {
          "output_type": "stream",
          "name": "stdout",
          "text": [
            "FINAL:\n",
            "position [10, 0.5526287018532019, 0.01]\n",
            "error 124.1202149570976\n"
          ]
        },
        {
          "output_type": "execute_result",
          "data": {
            "text/plain": [
              "<__main__.PSO at 0x7f339a025dd0>"
            ]
          },
          "metadata": {},
          "execution_count": 7
        }
      ]
    },
    {
      "cell_type": "code",
      "source": [
        "#Apply Optimal Parameters to SVR\n",
        "file_name='/content/drive/MyDrive/file_name2.csv'\n",
        "df=pd.read_csv(file_name)\n",
        "df = df.sort_index()\n",
        "y=df['et_short_crop']\n",
        "dff = df.drop('et_short_crop', 1)\n",
        "X=dff\n",
        "X_train,X_test,y_train,y_test= train_test_split(X, y, test_size = 0.2, random_state = 0)\n",
        "\n",
        "svr_regressor= SVR(kernel='rbf', C = 10, epsilon = 0.5555153237418458,gamma=0.01)\n",
        "svr_regressor.fit(X_train,y_train)\n",
        "\n",
        "y_pred = svr_regressor.predict(X_test)"
      ],
      "metadata": {
        "id": "AWEPgdbiwF38"
      },
      "execution_count": null,
      "outputs": []
    },
    {
      "cell_type": "code",
      "source": [
        "# APPLYING K-FOLD CROSS VALIDATION on RF model\n",
        "import numpy as np\n",
        "\n",
        "accuracies = cross_val_score(svr_regressor, X = X_train, y = y_train, cv = 10)\n",
        "accuracy_mean= accuracies.mean()\n",
        "accuracies.std()*100\n",
        "mse = mean_squared_error(y_test, y_pred)\n",
        "rmse = np.sqrt(mse)\n",
        "print(\"RMSE =\", rmse)"
      ],
      "metadata": {
        "colab": {
          "base_uri": "https://localhost:8080/"
        },
        "id": "1FFq22I3wCRV",
        "outputId": "6b2334a4-a00a-406c-d079-e885362e1f45"
      },
      "execution_count": null,
      "outputs": [
        {
          "output_type": "stream",
          "name": "stdout",
          "text": [
            "RMSE = 0.4124281785351654\n"
          ]
        }
      ]
    }
  ]
}